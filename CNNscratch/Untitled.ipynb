{
 "cells": [
  {
   "cell_type": "code",
   "execution_count": 2,
   "metadata": {},
   "outputs": [
    {
     "name": "stdout",
     "output_type": "stream",
     "text": [
      "40000\n",
      "                                                   0             1\n",
      "0  [[28, 15, 21, 24, 19, 30, 25, 19, 15, 30, 31, ...  [0, 0, 0, 0]\n",
      "1  [[28, 15, 21, 24, 19, 30, 25, 19, 15, 30, 31, ...  [0, 0, 0, 0]\n",
      "2  [[28, 15, 21, 24, 19, 30, 25, 19, 15, 30, 31, ...  [0, 0, 0, 0]\n",
      "3  [[28, 15, 21, 24, 19, 30, 25, 19, 15, 30, 31, ...  [0, 0, 0, 0]\n",
      "4  [[28, 15, 21, 24, 19, 30, 25, 19, 15, 30, 31, ...  [0, 0, 0, 0]\n",
      "Counter({'[0, 0, 0, 0]': 27629, '[0, 1, 0, 0]': 4826, '[1, 0, 0, 0]': 2741, '[0, 0, 1, 0]': 2504, '[0, 0, 0, 1]': 2300})\n"
     ]
    }
   ],
   "source": [
    "# balance_data.py\n",
    "\n",
    "import numpy as np\n",
    "import pandas as pd\n",
    "from collections import Counter\n",
    "from random import shuffle\n",
    "import cv2\n",
    "\n",
    "train_data = np.load('training_data.npy')\n",
    "print(len(train_data))\n",
    "\n",
    "df = pd.DataFrame(train_data)\n",
    "print(df.head())\n",
    "print(Counter(df[1].apply(str)))\n",
    "\n",
    "no_action = []\n",
    "lefts = []\n",
    "rights = []\n",
    "forwards = []\n",
    "brakes=[]\n",
    "\n",
    "\n",
    "shuffle(train_data)\n",
    "\n",
    "for data in train_data:\n",
    "    img = data[0]\n",
    "    choice = data[1]\n",
    "    \n",
    "##    cv2.imshow('test',img)\n",
    "##    print(choice)\n",
    "##    if cv2.waitKey(25) & 0xFF == ord('q'):\n",
    "##        cv2.destroyAllWindows()\n",
    "##        \n",
    "\n",
    "    #if choice is 'A' - left\n",
    "    if choice == [1,0,0,0]:\n",
    "        lefts.append([img,choice])\n",
    "\n",
    "    #if choice is 'W' - forward\n",
    "    elif choice == [0,1,0,0]:\n",
    "        forwards.append([img,choice])\n",
    "\n",
    "    #if choice is 'D' - right\n",
    "    elif choice == [0,0,1,0]:\n",
    "        rights.append([img,choice])\n",
    "\n",
    "    #if choice is 'SPACE' - brake\n",
    "    elif choice == [0,0,0,1]:\n",
    "        brakes.append([img,choice])\n",
    "\n",
    "    #if no action was taken\n",
    "    else:\n",
    "        no_action.append([img,choice])\n",
    "        print('no matches')\n",
    "\n",
    "##no_action = no_action[:len(lefts)][:len(rights)][:len(brakes)][:len(forwards)]\n",
    "##forwards = forwards[:len(no_action)]\n",
    "##lefts = lefts[:len(forwards)]\n",
    "##rights = rights[:len(forwards)]\n",
    "##brakes = brakes[:len(forwards)]\n",
    "##\n",
    "##final_data = forwards + lefts + rights + brakes\n",
    "##shuffle(final_data)\n",
    "##print(len(final_data))\n",
    "##np.save('final_training_data.npy', final_data)\n",
    "\n",
    "\n",
    "\n",
    "\n"
   ]
  },
  {
   "cell_type": "code",
   "execution_count": null,
   "metadata": {},
   "outputs": [],
   "source": []
  }
 ],
 "metadata": {
  "kernelspec": {
   "display_name": "Python 3",
   "language": "python",
   "name": "python3"
  },
  "language_info": {
   "codemirror_mode": {
    "name": "ipython",
    "version": 3
   },
   "file_extension": ".py",
   "mimetype": "text/x-python",
   "name": "python",
   "nbconvert_exporter": "python",
   "pygments_lexer": "ipython3",
   "version": "3.6.3"
  }
 },
 "nbformat": 4,
 "nbformat_minor": 2
}
